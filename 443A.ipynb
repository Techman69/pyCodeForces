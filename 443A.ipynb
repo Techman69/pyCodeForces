{
 "cells": [
  {
   "cell_type": "code",
   "execution_count": 29,
   "id": "1bc0beb2",
   "metadata": {},
   "outputs": [
    {
     "name": "stdout",
     "output_type": "stream",
     "text": [
      "{}\n",
      "0\n"
     ]
    }
   ],
   "source": [
    "Set =  set(input())\n",
    "if \",\" in Set and \"{\" in Set : \n",
    "    Set.remove(\",\")\n",
    "    Set.remove(\" \")\n",
    "    Set.remove(\"{\")\n",
    "    Set.remove(\"}\")    \n",
    "else :\n",
    "    Set.remove(\"{\")\n",
    "    Set.remove(\"}\")\n",
    "    \n",
    "print(len(Set))\n"
   ]
  },
  {
   "cell_type": "code",
   "execution_count": 30,
   "id": "ed1ba8cb",
   "metadata": {},
   "outputs": [
    {
     "name": "stdout",
     "output_type": "stream",
     "text": [
      "set()\n"
     ]
    }
   ],
   "source": [
    "print(Set)"
   ]
  },
  {
   "cell_type": "code",
   "execution_count": null,
   "id": "9713dfed",
   "metadata": {},
   "outputs": [],
   "source": []
  }
 ],
 "metadata": {
  "kernelspec": {
   "display_name": "Python 3 (ipykernel)",
   "language": "python",
   "name": "python3"
  },
  "language_info": {
   "codemirror_mode": {
    "name": "ipython",
    "version": 3
   },
   "file_extension": ".py",
   "mimetype": "text/x-python",
   "name": "python",
   "nbconvert_exporter": "python",
   "pygments_lexer": "ipython3",
   "version": "3.11.4"
  }
 },
 "nbformat": 4,
 "nbformat_minor": 5
}
