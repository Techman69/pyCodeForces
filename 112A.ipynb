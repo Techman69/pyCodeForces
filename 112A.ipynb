{
 "cells": [
  {
   "cell_type": "code",
   "execution_count": 50,
   "metadata": {},
   "outputs": [
    {
     "name": "stdout",
     "output_type": "stream",
     "text": [
      "-1\n"
     ]
    }
   ],
   "source": [
    "str1 = str(input())\n",
    "str2 = str(input())\n",
    "str1 = str1.lower()\n",
    "str2 = str2.lower()\n",
    "\n",
    "\n",
    "if str1 == str2 :\n",
    "    print(0)\n",
    "elif str1 > str2:\n",
    "    print(1)\n",
    "elif str2 > str1:\n",
    "    print(-1)"
   ]
  }
 ],
 "metadata": {
  "kernelspec": {
   "display_name": "Python 3",
   "language": "python",
   "name": "python3"
  },
  "language_info": {
   "codemirror_mode": {
    "name": "ipython",
    "version": 3
   },
   "file_extension": ".py",
   "mimetype": "text/x-python",
   "name": "python",
   "nbconvert_exporter": "python",
   "pygments_lexer": "ipython3",
   "version": "3.11.5"
  }
 },
 "nbformat": 4,
 "nbformat_minor": 2
}
