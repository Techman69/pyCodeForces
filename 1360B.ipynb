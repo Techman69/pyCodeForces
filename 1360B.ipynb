{
 "cells": [
  {
   "cell_type": "code",
   "execution_count": 33,
   "metadata": {},
   "outputs": [],
   "source": [
    "numberOftestcases = int(input())\n",
    "for i in range(numberOftestcases) :\n",
    "    numberOfathletes = int(input())\n",
    "    strengthOfathletes = list(input())\n",
    "    while(\" \" in strengthOfathletes) :\n",
    "        strengthOfathletes.remove(\" \")\n",
    "    TeamA = []\n",
    "    TeamB = []\n",
    "    lofdiff = []\n",
    "    try:\n",
    "        for i in strengthOfathletes:\n",
    "            for l in range(numberOfathletes) :\n",
    "                diff = abs(int(i) - int(strengthOfathletes[(int(l)+1)])) \n",
    "                lofdiff.append(diff)\n",
    "        lofdiff.sort()\n",
    "        print(lofdiff)\n",
    "    except(IndexError):\n",
    "        lofdiff.sort()\n",
    "        print(lofdiff)\n"
   ]
  },
  {
   "cell_type": "code",
   "execution_count": 34,
   "metadata": {},
   "outputs": [
    {
     "name": "stdout",
     "output_type": "stream",
     "text": [
      "[1, 1, 0, 2, 1, 0, 2, 1, 3, 2, 2, 0, 1, 1, 0, 1, 1, 0, 2, 1, 3, 1, 2, 0, 1, 2, 0, 1, 1, 0]\n"
     ]
    }
   ],
   "source": [
    "print(lofdiff)"
   ]
  }
 ],
 "metadata": {
  "kernelspec": {
   "display_name": "Python 3",
   "language": "python",
   "name": "python3"
  },
  "language_info": {
   "codemirror_mode": {
    "name": "ipython",
    "version": 3
   },
   "file_extension": ".py",
   "mimetype": "text/x-python",
   "name": "python",
   "nbconvert_exporter": "python",
   "pygments_lexer": "ipython3",
   "version": "3.11.7"
  }
 },
 "nbformat": 4,
 "nbformat_minor": 2
}
