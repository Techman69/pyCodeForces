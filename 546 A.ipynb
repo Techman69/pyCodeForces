{
 "cells": [
  {
   "cell_type": "code",
   "execution_count": 30,
   "id": "b9231b51",
   "metadata": {},
   "outputs": [
    {
     "name": "stdout",
     "output_type": "stream",
     "text": [
      "3\n",
      "17\n",
      "4\n"
     ]
    }
   ],
   "source": [
    "Cost_of_Banana = int(input())\n",
    "Amount_of_money = int(input())\n",
    "Number_banana = int(input())"
   ]
  },
  {
   "cell_type": "code",
   "execution_count": 46,
   "id": "af3c21d5",
   "metadata": {},
   "outputs": [
    {
     "name": "stdout",
     "output_type": "stream",
     "text": [
      "3\n",
      "local inc 2\n",
      "6\n",
      "local inc 3\n",
      "9\n",
      "local inc 4\n",
      "12\n",
      "local inc 5\n",
      "12\n"
     ]
    }
   ],
   "source": [
    "inc = 1\n",
    "for i in range(Number_banana) :\n",
    "    total_co0st = Cost_of_Banana * inc\n",
    "    inc = inc + 1 \n",
    "    print(total_cost)\n",
    "    print(\"local inc\", inc)\n",
    "print(total_cost)"
   ]
  },
  {
   "cell_type": "code",
   "execution_count": 45,
   "id": "8c4a7a4a",
   "metadata": {},
   "outputs": [
    {
     "name": "stdout",
     "output_type": "stream",
     "text": [
      "0\n"
     ]
    }
   ],
   "source": [
    "if total_cost > Amount_of_money :\n",
    "    Debt = total_cost - Amount_of_money\n",
    "    print(Debt) \n",
    "else :\n",
    "    print(0)"
   ]
  },
  {
   "cell_type": "code",
   "execution_count": null,
   "id": "5957f918",
   "metadata": {},
   "outputs": [],
   "source": []
  },
  {
   "cell_type": "code",
   "execution_count": null,
   "id": "3918d1b0",
   "metadata": {},
   "outputs": [],
   "source": []
  }
 ],
 "metadata": {
  "kernelspec": {
   "display_name": "Python 3 (ipykernel)",
   "language": "python",
   "name": "python3"
  },
  "language_info": {
   "codemirror_mode": {
    "name": "ipython",
    "version": 3
   },
   "file_extension": ".py",
   "mimetype": "text/x-python",
   "name": "python",
   "nbconvert_exporter": "python",
   "pygments_lexer": "ipython3",
   "version": "3.11.4"
  }
 },
 "nbformat": 4,
 "nbformat_minor": 5
}
