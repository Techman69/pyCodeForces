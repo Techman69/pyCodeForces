{
 "cells": [
  {
   "cell_type": "code",
   "execution_count": 2,
   "id": "85a18adf",
   "metadata": {},
   "outputs": [
    {
     "name": "stdout",
     "output_type": "stream",
     "text": [
      "SANTACLAUS\n",
      "DEDMOROZ\n",
      "SANTAMOROZDEDCLAUS\n"
     ]
    }
   ],
   "source": [
    "Guest_Name = str(input())\n",
    "Host_Name = str(input())\n",
    "Pile = list(input())"
   ]
  },
  {
   "cell_type": "code",
   "execution_count": 3,
   "id": "63468b6f",
   "metadata": {},
   "outputs": [
    {
     "name": "stdout",
     "output_type": "stream",
     "text": [
      "NO\n"
     ]
    }
   ],
   "source": [
    "if Guest_Name in Pile  :\n",
    "    print(\"YES\")\n",
    "else :\n",
    "    print(\"NO\")"
   ]
  },
  {
   "cell_type": "code",
   "execution_count": 42,
   "id": "ca8f22fd",
   "metadata": {},
   "outputs": [
    {
     "name": "stdout",
     "output_type": "stream",
     "text": [
      "SANTACLAUS\n",
      "DEDMOROZ\n",
      "['S', 'A', 'N', 'T', 'A', 'M', 'O', 'R', 'O', 'Z', 'D', 'E', 'D', 'C', 'L', 'A', 'U', 'S']\n"
     ]
    }
   ],
   "source": [
    "print(Guest_Name)\n",
    "print(Host_Name)\n",
    "print(Pile)"
   ]
  },
  {
   "cell_type": "code",
   "execution_count": null,
   "id": "3893ccbd",
   "metadata": {},
   "outputs": [],
   "source": []
  }
 ],
 "metadata": {
  "kernelspec": {
   "display_name": "Python 3 (ipykernel)",
   "language": "python",
   "name": "python3"
  },
  "language_info": {
   "codemirror_mode": {
    "name": "ipython",
    "version": 3
   },
   "file_extension": ".py",
   "mimetype": "text/x-python",
   "name": "python",
   "nbconvert_exporter": "python",
   "pygments_lexer": "ipython3",
   "version": "3.11.4"
  }
 },
 "nbformat": 4,
 "nbformat_minor": 5
}
