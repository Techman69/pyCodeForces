{
 "cells": [
  {
   "cell_type": "code",
   "execution_count": 8,
   "id": "377e7305",
   "metadata": {},
   "outputs": [
    {
     "name": "stdout",
     "output_type": "stream",
     "text": [
      "6\n",
      "DADADA\n"
     ]
    }
   ],
   "source": [
    "number_of_games = int(input())\n",
    "name = str(input())"
   ]
  },
  {
   "cell_type": "code",
   "execution_count": 9,
   "id": "e1dabc27",
   "metadata": {},
   "outputs": [
    {
     "name": "stdout",
     "output_type": "stream",
     "text": [
      "Friendship\n"
     ]
    }
   ],
   "source": [
    "if name.count(\"D\") > name.count(\"A\"):\n",
    "    print(\"Danik\")\n",
    "elif name.count(\"A\") > name.count(\"D\"):\n",
    "    print(\"Anton\")\n",
    "else :\n",
    "    print(\"Friendship\")"
   ]
  },
  {
   "cell_type": "code",
   "execution_count": null,
   "id": "25eef76c",
   "metadata": {},
   "outputs": [],
   "source": []
  },
  {
   "cell_type": "code",
   "execution_count": null,
   "id": "5683c00e",
   "metadata": {},
   "outputs": [],
   "source": []
  }
 ],
 "metadata": {
  "kernelspec": {
   "display_name": "Python 3",
   "language": "python",
   "name": "python3"
  },
  "language_info": {
   "codemirror_mode": {
    "name": "ipython",
    "version": 3
   },
   "file_extension": ".py",
   "mimetype": "text/x-python",
   "name": "python",
   "nbconvert_exporter": "python",
   "pygments_lexer": "ipython3",
   "version": "3.10.12"
  }
 },
 "nbformat": 4,
 "nbformat_minor": 5
}
