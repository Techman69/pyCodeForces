{
 "cells": [
  {
   "cell_type": "code",
   "execution_count": 5,
   "metadata": {},
   "outputs": [],
   "source": [
    "number = int(input())\n",
    "count"
   ]
  },
  {
   "cell_type": "code",
   "execution_count": 7,
   "metadata": {},
   "outputs": [
    {
     "ename": "KeyboardInterrupt",
     "evalue": "",
     "output_type": "error",
     "traceback": [
      "\u001b[0;31m---------------------------------------------------------------------------\u001b[0m",
      "\u001b[0;31mKeyboardInterrupt\u001b[0m                         Traceback (most recent call last)",
      "\u001b[1;32m/home/techman/مستندات/Code forces/617A.ipynb Cell 2\u001b[0m line \u001b[0;36m1\n\u001b[0;32m----> <a href='vscode-notebook-cell:/home/techman/%D9%85%D8%B3%D8%AA%D9%86%D8%AF%D8%A7%D8%AA/Code%20forces/617A.ipynb#W1sZmlsZQ%3D%3D?line=0'>1</a>\u001b[0m \u001b[39mwhile\u001b[39;00m \u001b[39mTrue\u001b[39;00m :\n\u001b[1;32m      <a href='vscode-notebook-cell:/home/techman/%D9%85%D8%B3%D8%AA%D9%86%D8%AF%D8%A7%D8%AA/Code%20forces/617A.ipynb#W1sZmlsZQ%3D%3D?line=1'>2</a>\u001b[0m     \u001b[39mif\u001b[39;00m friendHouse \u001b[39m/\u001b[39m \u001b[39m4\u001b[39m \u001b[39mis\u001b[39;00m \u001b[39mint\u001b[39m :\n\u001b[1;32m      <a href='vscode-notebook-cell:/home/techman/%D9%85%D8%B3%D8%AA%D9%86%D8%AF%D8%A7%D8%AA/Code%20forces/617A.ipynb#W1sZmlsZQ%3D%3D?line=2'>3</a>\u001b[0m         globalCount \u001b[39m=\u001b[39m globalCount \u001b[39m+\u001b[39m \u001b[39m1\u001b[39m\n",
      "\u001b[0;31mKeyboardInterrupt\u001b[0m: "
     ]
    }
   ],
   "source": [
    "for i"
   ]
  }
 ],
 "metadata": {
  "kernelspec": {
   "display_name": "Python 3",
   "language": "python",
   "name": "python3"
  },
  "language_info": {
   "codemirror_mode": {
    "name": "ipython",
    "version": 3
   },
   "file_extension": ".py",
   "mimetype": "text/x-python",
   "name": "python",
   "nbconvert_exporter": "python",
   "pygments_lexer": "ipython3",
   "version": "3.11.5"
  }
 },
 "nbformat": 4,
 "nbformat_minor": 2
}
